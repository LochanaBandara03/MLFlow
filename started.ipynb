{
 "cells": [
  {
   "cell_type": "markdown",
   "id": "a62772fe",
   "metadata": {},
   "source": [
    "### MLFLow Tracking Server"
   ]
  },
  {
   "cell_type": "code",
   "execution_count": 3,
   "id": "9ccd0e54",
   "metadata": {},
   "outputs": [],
   "source": [
    "import mlflow"
   ]
  },
  {
   "cell_type": "code",
   "execution_count": 4,
   "id": "064029c8",
   "metadata": {},
   "outputs": [],
   "source": [
    "mlflow.set_tracking_uri(\"http://127.0.0.1:5000\")"
   ]
  },
  {
   "cell_type": "code",
   "execution_count": 5,
   "id": "836b88d0",
   "metadata": {},
   "outputs": [
    {
     "name": "stderr",
     "output_type": "stream",
     "text": [
      "2025/09/15 13:34:35 INFO mlflow.tracking.fluent: Experiment with name 'check localhost connection' does not exist. Creating a new experiment.\n"
     ]
    },
    {
     "name": "stdout",
     "output_type": "stream",
     "text": [
      "🏃 View run efficient-croc-629 at: http://127.0.0.1:5000/#/experiments/542141820579876601/runs/064923f890984d98b21264b2a0ceffd9\n",
      "🧪 View experiment at: http://127.0.0.1:5000/#/experiments/542141820579876601\n"
     ]
    }
   ],
   "source": [
    "mlflow.set_experiment(\"check localhost connection\")\n",
    "\n",
    "with mlflow.start_run():\n",
    "    mlflow.log_metric(\"test\", 1)\n",
    "    mlflow.log_metric(\"test2\", 2)"
   ]
  },
  {
   "cell_type": "code",
   "execution_count": null,
   "id": "150f6f25",
   "metadata": {},
   "outputs": [],
   "source": []
  }
 ],
 "metadata": {
  "kernelspec": {
   "display_name": "base",
   "language": "python",
   "name": "python3"
  },
  "language_info": {
   "codemirror_mode": {
    "name": "ipython",
    "version": 3
   },
   "file_extension": ".py",
   "mimetype": "text/x-python",
   "name": "python",
   "nbconvert_exporter": "python",
   "pygments_lexer": "ipython3",
   "version": "3.12.7"
  }
 },
 "nbformat": 4,
 "nbformat_minor": 5
}
